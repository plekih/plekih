{
  "nbformat": 4,
  "nbformat_minor": 0,
  "metadata": {
    "colab": {
      "name": "extractZipFileInsideGoogleDrive",
      "provenance": [],
      "collapsed_sections": []
    },
    "kernelspec": {
      "name": "python3",
      "display_name": "Python 3"
    }
  },
  "cells": [
    {
      "cell_type": "code",
      "metadata": {
        "id": "G2P3Lr2hKTYN"
      },
      "source": [
        "from google.colab import drive\n",
        "drive.mount('/content/drive')\n"
      ],
      "execution_count": null,
      "outputs": []
    },
    {
      "cell_type": "code",
      "metadata": {
        "id": "_Y3lkkmn5QAB"
      },
      "source": [
        "print(\"simple command\")\r\n",
        "!ls -al \"/content/drive/My Drive/\"\r\n"
      ],
      "execution_count": null,
      "outputs": []
    },
    {
      "cell_type": "code",
      "metadata": {
        "id": "-jBGdXAla4pH"
      },
      "source": [
        "print(\"wget command\")\r\n",
        "!wget targetURL -P \"/content/drive/My Drive/\"\r\n"
      ],
      "execution_count": null,
      "outputs": []
    },
    {
      "cell_type": "code",
      "metadata": {
        "id": "-c0M-ewfbQ0u"
      },
      "source": [
        "print(\"unzip command, add -P thepassword for encrypted zip\")\r\n",
        "!unzip \"/content/drive/My Drive/filename.zip\"  -d \"/content/drive/My Drive/\"\r\n",
        "print(\"done\")"
      ],
      "execution_count": null,
      "outputs": []
    },
    {
      "cell_type": "code",
      "metadata": {
        "id": "bDWepq5gcIka"
      },
      "source": [
        "print(\"unrar command, add -Y for encrypted rar\")\r\n",
        "!unrar x \"/content/drive/My Drive/filename.rar\" \"/content/drive/My Drive/\"\r\n",
        "print(\"done\")"
      ],
      "execution_count": null,
      "outputs": []
    }
  ]
}